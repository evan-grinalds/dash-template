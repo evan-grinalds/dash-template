{
  "nbformat": 4,
  "nbformat_minor": 0,
  "metadata": {
    "kernelspec": {
      "display_name": "Python 3",
      "language": "python",
      "name": "python3"
    },
    "language_info": {
      "codemirror_mode": {
        "name": "ipython",
        "version": 3
      },
      "file_extension": ".py",
      "mimetype": "text/x-python",
      "name": "python",
      "nbconvert_exporter": "python",
      "pygments_lexer": "ipython3",
      "version": "3.7.4"
    },
    "colab": {
      "name": "Tesla_Friday.pkl.ipynb",
      "provenance": [],
      "include_colab_link": true
    }
  },
  "cells": [
    {
      "cell_type": "markdown",
      "metadata": {
        "id": "view-in-github",
        "colab_type": "text"
      },
      "source": [
        "<a href=\"https://colab.research.google.com/github/evan-grinalds/dash-template/blob/master/notebooks/Tesla_Friday_pkl.ipynb\" target=\"_parent\"><img src=\"https://colab.research.google.com/assets/colab-badge.svg\" alt=\"Open In Colab\"/></a>"
      ]
    },
    {
      "cell_type": "code",
      "metadata": {
        "id": "uyidQGRyX0GN",
        "colab_type": "code",
        "colab": {}
      },
      "source": [
        "%%capture\n",
        "import sys\n",
        "\n",
        "# If you're on Colab:\n",
        "if 'google.colab' in sys.modules:\n",
        "    DATA_PATH = 'https://raw.githubusercontent.com/evan-grinalds/Unit-2-Build/master/data/'\n",
        "    !pip install category_encoders==2.*"
      ],
      "execution_count": 1,
      "outputs": []
    },
    {
      "cell_type": "code",
      "metadata": {
        "id": "6Hb80iCtXjdo",
        "colab_type": "code",
        "colab": {}
      },
      "source": [
        "import pandas as pd\n",
        "from sklearn.pipeline import make_pipeline\n",
        "# read in data:\n",
        "\n",
        "df = pd.read_csv(DATA_PATH+'model_s.csv')"
      ],
      "execution_count": 2,
      "outputs": []
    },
    {
      "cell_type": "code",
      "metadata": {
        "id": "myWI6hznXjd0",
        "colab_type": "code",
        "colab": {}
      },
      "source": [
        "import numpy as np\n",
        "import pandas as pd\n",
        "from sklearn.model_selection import train_test_split\n",
        "\n",
        "# Read train_features.csv\n",
        "train = pd.read_csv(DATA_PATH+'training.csv')\n",
        "                \n",
        "# Read test_features.csv\n",
        "test = pd.read_csv(DATA_PATH+'test.csv')\n",
        "\n",
        "# Split train into train & val\n",
        "train, val = train_test_split(train, train_size=0.80, test_size=0.20) "
      ],
      "execution_count": 3,
      "outputs": []
    },
    {
      "cell_type": "code",
      "metadata": {
        "id": "xmrs1W4mYSP2",
        "colab_type": "code",
        "colab": {}
      },
      "source": [
        "# Remove symbols, convert to integer\n",
        "train['mileage'] = (\n",
        "train['mileage']\n",
        ".str.replace('mi.','')\n",
        ".astype(int)\n",
        ")\n",
        "\n",
        "val['mileage'] = (\n",
        "val['mileage']\n",
        ".str.replace('mi.','')\n",
        ".astype(int)\n",
        ")\n",
        "\n",
        "test['mileage'] = (\n",
        "test['mileage']\n",
        ".str.replace('mi.','')\n",
        ".astype(int)\n",
        ")\n",
        "\n",
        "df['mileage'] = (\n",
        "df['mileage']\n",
        ".str.replace('mi.','')\n",
        ".astype(int)\n",
        ")"
      ],
      "execution_count": 4,
      "outputs": []
    },
    {
      "cell_type": "code",
      "metadata": {
        "id": "ETQKwCwnXjd_",
        "colab_type": "code",
        "colab": {}
      },
      "source": [
        "# Arrange data into X features matrix and y target vector\n",
        "features = ['year', 'battery', 'ludacris_mode', 'all_wheel_drive', 'mileage']\n",
        "target = 'price'\n",
        "X_train = train[features]\n",
        "y_train = train[target]\n",
        "X_val = val[features]\n",
        "y_val = val[target]\n",
        "X_test = test[features]\n",
        "y_test = test[target]"
      ],
      "execution_count": 29,
      "outputs": []
    },
    {
      "cell_type": "code",
      "metadata": {
        "id": "gb4loWZcYgV8",
        "colab_type": "code",
        "colab": {}
      },
      "source": [
        "import category_encoders as ce\n",
        "\n",
        "encoder = ce.OneHotEncoder(use_cat_names=True)\n",
        "X_train = encoder.fit_transform(X_train)\n",
        "X_val = encoder.transform(X_val)\n",
        "X_test = encoder.transform(X_test)"
      ],
      "execution_count": 30,
      "outputs": []
    },
    {
      "cell_type": "code",
      "metadata": {
        "id": "WIr79m7TXjeR",
        "colab_type": "code",
        "colab": {
          "base_uri": "https://localhost:8080/",
          "height": 782
        },
        "outputId": "e5032f04-ea21-46c7-f8c1-0880c61ef6a8"
      },
      "source": [
        "# Define the model\n",
        "from sklearn.model_selection import GridSearchCV, RandomizedSearchCV\n",
        "from scipy.stats import randint, uniform\n",
        "from sklearn.impute import SimpleImputer\n",
        "from sklearn.ensemble import RandomForestRegressor\n",
        "from sklearn.preprocessing import StandardScaler\n",
        "pipeline = make_pipeline(\n",
        "    ce.TargetEncoder(), \n",
        "    SimpleImputer(),\n",
        "    StandardScaler(), \n",
        "    RandomForestRegressor(random_state=42)\n",
        ")\n",
        "\n",
        "param_distributions = {\n",
        "    'targetencoder__min_samples_leaf': randint(1, 1000),     \n",
        "    'simpleimputer__strategy': ['mean', 'median'], \n",
        "    'randomforestregressor__n_estimators': randint(50, 500), \n",
        "    'randomforestregressor__max_depth': [5, 10, 15, 20, None], \n",
        "    'randomforestregressor__max_features': uniform(0, 1), \n",
        "}\n",
        "\n",
        "# If you're on Colab, decrease n_iter & cv parameters\n",
        "search = RandomizedSearchCV(\n",
        "    pipeline, \n",
        "    param_distributions=param_distributions, \n",
        "    n_iter=100, \n",
        "    cv=10, \n",
        "    scoring='neg_mean_absolute_error', \n",
        "    verbose=10, \n",
        "    return_train_score=True, \n",
        "    n_jobs=-1\n",
        ")\n",
        "\n",
        "search.fit(X_train, y_train);"
      ],
      "execution_count": 32,
      "outputs": [
        {
          "output_type": "stream",
          "text": [
            "Fitting 10 folds for each of 100 candidates, totalling 1000 fits\n"
          ],
          "name": "stdout"
        },
        {
          "output_type": "stream",
          "text": [
            "[Parallel(n_jobs=-1)]: Using backend LokyBackend with 2 concurrent workers.\n",
            "[Parallel(n_jobs=-1)]: Done   1 tasks      | elapsed:    2.9s\n",
            "[Parallel(n_jobs=-1)]: Done   4 tasks      | elapsed:    4.2s\n",
            "[Parallel(n_jobs=-1)]: Done   9 tasks      | elapsed:    7.5s\n",
            "[Parallel(n_jobs=-1)]: Done  14 tasks      | elapsed:    8.1s\n",
            "[Parallel(n_jobs=-1)]: Done  21 tasks      | elapsed:    9.8s\n",
            "[Parallel(n_jobs=-1)]: Done  28 tasks      | elapsed:   12.8s\n",
            "[Parallel(n_jobs=-1)]: Done  37 tasks      | elapsed:   16.8s\n",
            "[Parallel(n_jobs=-1)]: Done  46 tasks      | elapsed:   21.1s\n",
            "[Parallel(n_jobs=-1)]: Done  57 tasks      | elapsed:   25.4s\n",
            "[Parallel(n_jobs=-1)]: Done  68 tasks      | elapsed:   26.9s\n",
            "[Parallel(n_jobs=-1)]: Done  81 tasks      | elapsed:   33.0s\n",
            "[Parallel(n_jobs=-1)]: Done  94 tasks      | elapsed:   38.8s\n",
            "[Parallel(n_jobs=-1)]: Done 109 tasks      | elapsed:   45.2s\n",
            "[Parallel(n_jobs=-1)]: Done 124 tasks      | elapsed:   51.5s\n",
            "[Parallel(n_jobs=-1)]: Done 141 tasks      | elapsed:   58.6s\n",
            "[Parallel(n_jobs=-1)]: Done 158 tasks      | elapsed:  1.0min\n",
            "[Parallel(n_jobs=-1)]: Done 177 tasks      | elapsed:  1.2min\n",
            "[Parallel(n_jobs=-1)]: Done 196 tasks      | elapsed:  1.3min\n",
            "[Parallel(n_jobs=-1)]: Done 217 tasks      | elapsed:  1.5min\n",
            "[Parallel(n_jobs=-1)]: Done 238 tasks      | elapsed:  1.6min\n",
            "[Parallel(n_jobs=-1)]: Done 261 tasks      | elapsed:  1.7min\n",
            "[Parallel(n_jobs=-1)]: Done 284 tasks      | elapsed:  1.9min\n",
            "[Parallel(n_jobs=-1)]: Done 309 tasks      | elapsed:  2.0min\n",
            "[Parallel(n_jobs=-1)]: Done 334 tasks      | elapsed:  2.3min\n",
            "[Parallel(n_jobs=-1)]: Done 361 tasks      | elapsed:  2.4min\n",
            "[Parallel(n_jobs=-1)]: Done 388 tasks      | elapsed:  2.5min\n",
            "[Parallel(n_jobs=-1)]: Done 417 tasks      | elapsed:  2.7min\n",
            "[Parallel(n_jobs=-1)]: Done 446 tasks      | elapsed:  2.9min\n",
            "[Parallel(n_jobs=-1)]: Done 477 tasks      | elapsed:  3.0min\n",
            "[Parallel(n_jobs=-1)]: Done 508 tasks      | elapsed:  3.1min\n",
            "[Parallel(n_jobs=-1)]: Done 541 tasks      | elapsed:  3.3min\n",
            "[Parallel(n_jobs=-1)]: Done 574 tasks      | elapsed:  3.5min\n",
            "[Parallel(n_jobs=-1)]: Done 609 tasks      | elapsed:  3.7min\n",
            "[Parallel(n_jobs=-1)]: Done 644 tasks      | elapsed:  3.8min\n",
            "[Parallel(n_jobs=-1)]: Done 681 tasks      | elapsed:  4.1min\n",
            "[Parallel(n_jobs=-1)]: Done 718 tasks      | elapsed:  4.3min\n",
            "[Parallel(n_jobs=-1)]: Done 757 tasks      | elapsed:  4.5min\n",
            "[Parallel(n_jobs=-1)]: Done 796 tasks      | elapsed:  4.7min\n",
            "[Parallel(n_jobs=-1)]: Done 837 tasks      | elapsed:  4.9min\n",
            "[Parallel(n_jobs=-1)]: Done 878 tasks      | elapsed:  5.2min\n",
            "[Parallel(n_jobs=-1)]: Done 921 tasks      | elapsed:  5.4min\n",
            "[Parallel(n_jobs=-1)]: Done 964 tasks      | elapsed:  5.7min\n",
            "[Parallel(n_jobs=-1)]: Done 1000 out of 1000 | elapsed:  5.9min finished\n"
          ],
          "name": "stderr"
        }
      ]
    },
    {
      "cell_type": "code",
      "metadata": {
        "id": "dTz7smB5aItq",
        "colab_type": "code",
        "colab": {
          "base_uri": "https://localhost:8080/",
          "height": 34
        },
        "outputId": "d80d29fc-24d4-4962-efb5-8a29b227a30e"
      },
      "source": [
        "print('Random Forest MAE: $', -search.best_score_)"
      ],
      "execution_count": 33,
      "outputs": [
        {
          "output_type": "stream",
          "text": [
            "Random Forest MAE: $ 3884.929870732295\n"
          ],
          "name": "stdout"
        }
      ]
    },
    {
      "cell_type": "code",
      "metadata": {
        "id": "-OhDxbXveBIh",
        "colab_type": "code",
        "colab": {}
      },
      "source": [
        "import pickle"
      ],
      "execution_count": 34,
      "outputs": []
    },
    {
      "cell_type": "code",
      "metadata": {
        "id": "4-tFhhesfg0K",
        "colab_type": "code",
        "colab": {}
      },
      "source": [
        "# Save the Model to file in the current working directory\n",
        "\n",
        "Pkl_Filename = \"Tesla_Final.pkl\"  \n",
        "\n",
        "with open(Pkl_Filename, 'wb') as file:  \n",
        "    pickle.dump(search, file)"
      ],
      "execution_count": 35,
      "outputs": []
    },
    {
      "cell_type": "code",
      "metadata": {
        "id": "M51b8krufd-B",
        "colab_type": "code",
        "colab": {
          "base_uri": "https://localhost:8080/",
          "height": 445
        },
        "outputId": "673e3b18-a25d-48d3-e050-4f89e0e49de7"
      },
      "source": [
        "# Load the Model back from file\n",
        "with open(Pkl_Filename, 'rb') as file:  \n",
        "    Pickled_LR_Model = pickle.load(file)\n",
        "\n",
        "Pickled_LR_Model"
      ],
      "execution_count": 36,
      "outputs": [
        {
          "output_type": "execute_result",
          "data": {
            "text/plain": [
              "RandomizedSearchCV(cv=10, error_score=nan,\n",
              "                   estimator=Pipeline(memory=None,\n",
              "                                      steps=[('targetencoder',\n",
              "                                              TargetEncoder(cols=None,\n",
              "                                                            drop_invariant=False,\n",
              "                                                            handle_missing='value',\n",
              "                                                            handle_unknown='value',\n",
              "                                                            min_samples_leaf=1,\n",
              "                                                            return_df=True,\n",
              "                                                            smoothing=1.0,\n",
              "                                                            verbose=0)),\n",
              "                                             ('simpleimputer',\n",
              "                                              SimpleImputer(add_indicator=False,\n",
              "                                                            copy=True,\n",
              "                                                            fill_value=None,\n",
              "                                                            missing_values=nan,\n",
              "                                                            strateg...\n",
              "                                        'randomforestregressor__n_estimators': <scipy.stats._distn_infrastructure.rv_frozen object at 0x7f003fc4a9b0>,\n",
              "                                        'simpleimputer__strategy': ['mean',\n",
              "                                                                    'median'],\n",
              "                                        'targetencoder__min_samples_leaf': <scipy.stats._distn_infrastructure.rv_frozen object at 0x7f003fb43b38>},\n",
              "                   pre_dispatch='2*n_jobs', random_state=None, refit=True,\n",
              "                   return_train_score=True, scoring='neg_mean_absolute_error',\n",
              "                   verbose=10)"
            ]
          },
          "metadata": {
            "tags": []
          },
          "execution_count": 36
        }
      ]
    },
    {
      "cell_type": "code",
      "metadata": {
        "id": "Jh0LfIskuWJf",
        "colab_type": "code",
        "colab": {
          "base_uri": "https://localhost:8080/",
          "height": 34
        },
        "outputId": "5a1de71f-3da1-435d-8039-e596e9d03cbc"
      },
      "source": [
        "score = Pickled_LR_Model.score(X_test, y_test)  \n",
        "# Print the Score\n",
        "print(\"Test score: ${0:.2f} \".format(1 * -score))  "
      ],
      "execution_count": 37,
      "outputs": [
        {
          "output_type": "stream",
          "text": [
            "Test score: $2766.86 \n"
          ],
          "name": "stdout"
        }
      ]
    },
    {
      "cell_type": "code",
      "metadata": {
        "id": "JMhTO7cNxOCc",
        "colab_type": "code",
        "colab": {
          "base_uri": "https://localhost:8080/",
          "height": 442
        },
        "outputId": "250563d6-3ac7-43c5-ff8b-84348190a8dd"
      },
      "source": [
        "y_pred = Pickled_LR_Model.predict(X_test) \n",
        "y_pred"
      ],
      "execution_count": 38,
      "outputs": [
        {
          "output_type": "execute_result",
          "data": {
            "text/plain": [
              "array([45700.64887153, 34535.30353776, 47159.66970486, 40596.16308904,\n",
              "       33696.82421875, 54798.25260417, 59235.69568452, 66117.38802083,\n",
              "       32907.01649306, 35823.74220963, 46462.74414062, 33348.06640625,\n",
              "       42033.6422309 , 50035.59933036, 40190.75390625, 49516.2390873 ,\n",
              "       38093.33072917, 61334.12326389, 57919.53472222, 53960.62847222,\n",
              "       42348.23177083, 34264.65625   , 81227.6796875 , 35243.79858321,\n",
              "       33969.81684028, 34804.31272735, 45802.60394965, 51163.953125  ,\n",
              "       28622.12543403, 37887.91437295, 32318.51909722, 54819.55989583,\n",
              "       37158.32146991, 52040.67013889, 45843.01818576, 35767.84898047,\n",
              "       36338.18003472, 49843.18229167, 40585.83333333, 43078.63151042,\n",
              "       36945.67708333, 37134.04548448, 49129.4296875 , 50298.49581473,\n",
              "       44586.65277778, 51983.44357639, 52169.77690972, 41736.47430556,\n",
              "       41009.12239583, 46913.84570312, 72060.66536458, 36571.38541667,\n",
              "       26621.67447917, 36653.72352431, 36713.64438657, 64044.32421875,\n",
              "       39207.04989459, 47187.35238715, 64855.73090278, 86586.38802083,\n",
              "       34582.44155859, 33492.48246528, 64571.70572917, 37956.44140625,\n",
              "       81727.81510417, 47187.35238715, 66342.65104167, 50298.49581473,\n",
              "       59007.64583333, 49843.18229167, 49516.2390873 , 49782.71803695,\n",
              "       34535.30353776, 48495.16536458, 64159.02604167, 33696.82421875,\n",
              "       45354.21853299, 38761.55989583, 36496.72569444, 37247.68214699,\n",
              "       49997.27120536, 45328.3359375 , 28622.12543403, 65586.80729167,\n",
              "       28966.58333333, 53719.34895833, 57184.7578125 , 80663.23307292,\n",
              "       55542.24305556, 72060.66536458, 38506.78125   , 28218.51822917,\n",
              "       50409.98561508, 35764.74371693, 81227.6796875 , 38093.33072917,\n",
              "       67492.83072917, 66320.765625  , 40434.48038194, 44958.48372396])"
            ]
          },
          "metadata": {
            "tags": []
          },
          "execution_count": 38
        }
      ]
    },
    {
      "cell_type": "code",
      "metadata": {
        "id": "8W_YGt4yyF7J",
        "colab_type": "code",
        "colab": {
          "base_uri": "https://localhost:8080/",
          "height": 34
        },
        "outputId": "c9eb73fe-1e46-4d99-c5cc-54d2650f38ac"
      },
      "source": [
        "import joblib\n",
        "joblib.dump(search, 'Tesla_Final.pkl')"
      ],
      "execution_count": 39,
      "outputs": [
        {
          "output_type": "execute_result",
          "data": {
            "text/plain": [
              "['Tesla_Final.pkl']"
            ]
          },
          "metadata": {
            "tags": []
          },
          "execution_count": 39
        }
      ]
    },
    {
      "cell_type": "code",
      "metadata": {
        "id": "YQnjBqADySGl",
        "colab_type": "code",
        "colab": {}
      },
      "source": [
        "model = joblib.load('Tesla_Final.pkl')"
      ],
      "execution_count": 40,
      "outputs": []
    },
    {
      "cell_type": "code",
      "metadata": {
        "id": "QImQEAk7Q2ds",
        "colab_type": "code",
        "colab": {
          "base_uri": "https://localhost:8080/",
          "height": 34
        },
        "outputId": "57e44cec-34ae-4fa3-eecd-7f6a4d135d44"
      },
      "source": [
        "# 5. Apply the model to new data\n",
        "year = 2015\n",
        "battery = 60\n",
        "ludacris_mode_Yes = 1\n",
        "ludacris_mode_No = 0\n",
        "all_wheel_drive_Yes = 1\n",
        "all_wheel_drive_No = 0\n",
        "mileage = 20000\n",
        "X_test = [[ year, battery, ludacris_mode_Yes, ludacris_mode_No, all_wheel_drive_Yes, all_wheel_drive_No, mileage ]]\n",
        "\n",
        "y_pred = model.predict(X_test)\n",
        "y_pred"
      ],
      "execution_count": 41,
      "outputs": [
        {
          "output_type": "execute_result",
          "data": {
            "text/plain": [
              "array([42854.22395833])"
            ]
          },
          "metadata": {
            "tags": []
          },
          "execution_count": 41
        }
      ]
    },
    {
      "cell_type": "code",
      "metadata": {
        "id": "JRvvedwWXjee",
        "colab_type": "code",
        "colab": {
          "base_uri": "https://localhost:8080/",
          "height": 34
        },
        "outputId": "e10af9ec-cd9c-461b-94b9-5546fd53aef8"
      },
      "source": [
        "def predict(year, battery, ludacris_mode_Yes, ludacris_mode_No, all_wheel_drive_Yes, all_wheel_drive_No, mileage):\n",
        "    y_pred = model.predict([[year, battery, ludacris_mode_Yes, ludacris_mode_No, all_wheel_drive_Yes, all_wheel_drive_No, mileage]])\n",
        "    estimate = y_pred\n",
        "    result = f'{year:.0f} Tesla Model S: ${estimate[0]:,.0f}'\n",
        "    return result\n",
        "\n",
        "print(predict(2015, 60, 1, 0, 1, 0, 20000))"
      ],
      "execution_count": 43,
      "outputs": [
        {
          "output_type": "stream",
          "text": [
            "2015 Tesla Model S: $42,854\n"
          ],
          "name": "stdout"
        }
      ]
    },
    {
      "cell_type": "code",
      "metadata": {
        "id": "E5LaT-JgbxHn",
        "colab_type": "code",
        "colab": {}
      },
      "source": [
        ""
      ],
      "execution_count": null,
      "outputs": []
    }
  ]
}